{
 "cells": [
  {
   "cell_type": "code",
   "execution_count": 3,
   "id": "668730d5-123d-41b4-8340-b96632eaab37",
   "metadata": {},
   "outputs": [
    {
     "name": "stderr",
     "output_type": "stream",
     "text": [
      "2025-06-18 12:08:31.242 WARNING streamlit.runtime.scriptrunner_utils.script_run_context: Thread 'MainThread': missing ScriptRunContext! This warning can be ignored when running in bare mode.\n",
      "2025-06-18 12:08:31.715 \n",
      "  \u001b[33m\u001b[1mWarning:\u001b[0m to view this Streamlit app on a browser, run it with the following\n",
      "  command:\n",
      "\n",
      "    streamlit run C:\\Users\\ASUS\\AppData\\Local\\Programs\\Python\\Python313\\Lib\\site-packages\\ipykernel_launcher.py [ARGUMENTS]\n",
      "2025-06-18 12:08:31.715 Thread 'MainThread': missing ScriptRunContext! This warning can be ignored when running in bare mode.\n",
      "2025-06-18 12:08:31.716 Thread 'MainThread': missing ScriptRunContext! This warning can be ignored when running in bare mode.\n",
      "2025-06-18 12:08:31.718 Thread 'MainThread': missing ScriptRunContext! This warning can be ignored when running in bare mode.\n",
      "2025-06-18 12:08:31.721 Thread 'MainThread': missing ScriptRunContext! This warning can be ignored when running in bare mode.\n",
      "2025-06-18 12:08:31.723 Thread 'MainThread': missing ScriptRunContext! This warning can be ignored when running in bare mode.\n",
      "2025-06-18 12:08:31.727 Thread 'MainThread': missing ScriptRunContext! This warning can be ignored when running in bare mode.\n",
      "2025-06-18 12:08:31.730 Thread 'MainThread': missing ScriptRunContext! This warning can be ignored when running in bare mode.\n",
      "2025-06-18 12:08:31.733 Thread 'MainThread': missing ScriptRunContext! This warning can be ignored when running in bare mode.\n"
     ]
    }
   ],
   "source": [
    "import streamlit as st\n",
    "import pandas as pd\n",
    "import numpy as np\n",
    "import matplotlib.pyplot as plt\n",
    "from statsmodels.tsa.seasonal import STL\n",
    "import plotly.graph_objects as go\n",
    "\n",
    "# Sidebar for user input\n",
    "st.sidebar.title(\"Window Scheduling Dashboard\")\n",
    "uploaded_file = st.sidebar.file_uploader(\"Upload GenerationData.xlsx\", type=\"xlsx\")\n",
    "\n",
    "if uploaded_file:\n",
    "    # Step 1: Load and filter data\n",
    "    df = pd.read_excel(uploaded_file)\n",
    "    df.columns = ['Date', 'Type'] + [f'Time_{i}' for i in range(1, len(df.columns) - 1)]\n",
    "    df = df[df['Type'] == 'Scheduled Generation (MW)'].drop(columns=['Type'])\n",
    "    st.success(\"Step 1: Data Loaded and Filtered\")\n",
    "    st.dataframe(df.head())\n",
    "\n",
    "    # Step 2: Reshape to time series\n",
    "    df_melted = df.melt(id_vars=['Date'], var_name='TimeBlock', value_name='Generation')\n",
    "    time_blocks = pd.date_range(start=\"00:00\", periods=96, freq=\"15min\").time\n",
    "    time_block_mapping = dict(zip([f'Time_{i}' for i in range(1, 97)], time_blocks))\n",
    "    df_melted['Time'] = df_melted['TimeBlock'].map(time_block_mapping)\n",
    "    df_melted['Datetime'] = pd.to_datetime(df_melted['Date'].astype(str)) + pd.to_timedelta(df_melted['Time'].astype(str))\n",
    "    df_timeseries = df_melted[['Datetime', 'Generation']].sort_values('Datetime').reset_index(drop=True)\n",
    "\n",
    "    st.success(\"Step 2: Reshaped to Time Series\")\n",
    "    st.dataframe(df_timeseries.head())\n",
    "\n",
    "    # Step 3: Resample to daily\n",
    "    daily_df = df_timeseries.resample('D', on='Datetime').mean().reset_index()\n",
    "    st.success(\"Step 3: Resampled to Daily Averages\")\n",
    "    st.line_chart(daily_df.set_index('Datetime'))\n",
    "\n",
    "    # Step 4: STL Decomposition\n",
    "    st.subheader(\"STL Decomposition\")\n",
    "    st.write(\"Extracting trend and seasonality\")\n",
    "    result = STL(daily_df.set_index('Datetime')['Generation'], period=365).fit()\n",
    "\n",
    "    # STL Plot\n",
    "    fig, axs = plt.subplots(3, 1, figsize=(10, 6), sharex=True)\n",
    "    axs[0].plot(result.trend)\n",
    "    axs[0].set_title(\"Trend\")\n",
    "    axs[1].plot(result.seasonal)\n",
    "    axs[1].set_title(\"Seasonality\")\n",
    "    axs[2].plot(result.resid)\n",
    "    axs[2].set_title(\"Residual\")\n",
    "    st.pyplot(fig)\n",
    "\n",
    "    # Optional Plotly chart\n",
    "    st.subheader(\"Interactive Plotly View\")\n",
    "    fig_plotly = go.Figure()\n",
    "    fig_plotly.add_trace(go.Scatter(x=daily_df['Datetime'], y=daily_df['Generation'], mode='lines', name='Daily Avg Gen'))\n",
    "    fig_plotly.update_layout(title=\"Daily Scheduled Generation\", xaxis_title=\"Date\", yaxis_title=\"MW\")\n",
    "    st.plotly_chart(fig_plotly, use_container_width=True)\n",
    "else:\n",
    "    st.warning(\"👈 Upload your Excel file from sidebar to begin.\")\n"
   ]
  },
  {
   "cell_type": "code",
   "execution_count": null,
   "id": "f0c1618e-4c22-404e-baea-607a21abe38e",
   "metadata": {},
   "outputs": [],
   "source": []
  }
 ],
 "metadata": {
  "kernelspec": {
   "display_name": "Python 3 (ipykernel)",
   "language": "python",
   "name": "python3"
  },
  "language_info": {
   "codemirror_mode": {
    "name": "ipython",
    "version": 3
   },
   "file_extension": ".py",
   "mimetype": "text/x-python",
   "name": "python",
   "nbconvert_exporter": "python",
   "pygments_lexer": "ipython3",
   "version": "3.13.2"
  }
 },
 "nbformat": 4,
 "nbformat_minor": 5
}
